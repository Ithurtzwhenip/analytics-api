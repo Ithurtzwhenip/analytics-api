{
 "cells": [
  {
   "cell_type": "code",
   "execution_count": 12,
   "id": "dbd7076b-d67b-4b9f-a28c-db1d362e023e",
   "metadata": {},
   "outputs": [],
   "source": [
    "import requests"
   ]
  },
  {
   "cell_type": "code",
   "execution_count": 13,
   "id": "f43df1ea-2eab-48a7-b54f-c8ac854ea3b0",
   "metadata": {},
   "outputs": [
    {
     "name": "stdout",
     "output_type": "stream",
     "text": [
      "{'date': 'Sat, 05 Apr 2025 10:41:09 GMT', 'server': 'uvicorn', 'content-length': '87', 'content-type': 'application/json'}\n",
      "ok True\n",
      "{'description': '123', 'created_at': '2025-04-05T10:41:10.369828Z', 'id': 2, 'page': '/test+'} <class 'dict'> None\n"
     ]
    }
   ],
   "source": [
    "path = \"/api/events/\"\n",
    "base_url = \"http://localhost:8002\" # 127.0.0.1\n",
    "create_endpoint = f\"{base_url}{path}\"\n",
    "\n",
    "response = requests.post(create_endpoint, json={\"page\": \"/test+\", \"description\": '123'}) # HTTP POST\n",
    "print(response.headers)\n",
    "print('ok', response.ok)\n",
    "if response.ok:\n",
    "    data = response.json()\n",
    "    print(data, type(data), data.get('items'))\n",
    "else:\n",
    "    print(response.text)"
   ]
  },
  {
   "cell_type": "code",
   "execution_count": 15,
   "id": "c4353479-0527-421b-b3c5-3a8d4a43695e",
   "metadata": {},
   "outputs": [
    {
     "name": "stdout",
     "output_type": "stream",
     "text": [
      "{'date': 'Sat, 05 Apr 2025 10:41:16 GMT', 'server': 'uvicorn', 'content-length': '95', 'content-type': 'application/json'}\n",
      "ok True\n",
      "{'description': 'inline test', 'created_at': '2025-04-05T10:41:10.369828Z', 'id': 2, 'page': '/test+'} <class 'dict'> None\n"
     ]
    }
   ],
   "source": [
    "detail_path = \"/api/events/2/\"\n",
    "detail_endpoint = f\"{base_url}{detail_path}\"\n",
    "\n",
    "response = requests.put(detail_endpoint, json={\"description\": \"inline test\"}) # HTTP PUT\n",
    "print(response.headers)\n",
    "print('ok', response.ok)\n",
    "if response.ok:\n",
    "    data = response.json()\n",
    "    print(data, type(data), data.get('items'))\n",
    "else:\n",
    "    print(response.text)"
   ]
  },
  {
   "cell_type": "code",
   "execution_count": null,
   "id": "27ae9e7a-b486-4aaf-8a58-9d5b1fdd865e",
   "metadata": {},
   "outputs": [],
   "source": []
  }
 ],
 "metadata": {
  "kernelspec": {
   "display_name": "Python 3 (ipykernel)",
   "language": "python",
   "name": "python3"
  },
  "language_info": {
   "codemirror_mode": {
    "name": "ipython",
    "version": 3
   },
   "file_extension": ".py",
   "mimetype": "text/x-python",
   "name": "python",
   "nbconvert_exporter": "python",
   "pygments_lexer": "ipython3",
   "version": "3.10.12"
  }
 },
 "nbformat": 4,
 "nbformat_minor": 5
}
