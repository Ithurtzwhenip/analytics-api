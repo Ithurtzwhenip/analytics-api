{
 "cells": [
  {
   "cell_type": "code",
   "execution_count": 4,
   "id": "dbd7076b-d67b-4b9f-a28c-db1d362e023e",
   "metadata": {},
   "outputs": [
    {
     "data": {
      "text/plain": [
       "'http://localhost:8002/api/events'"
      ]
     },
     "execution_count": 4,
     "metadata": {},
     "output_type": "execute_result"
    }
   ],
   "source": [
    "import requests\n",
    "from pprint import pprint\n",
    "path = \"/api/events\"\n",
    "base_url = \"http://localhost:8002\" # 127.0.0.1\n",
    "endpoint = f\"{base_url}{path}\"\n",
    "endpoint"
   ]
  },
  {
   "cell_type": "code",
   "execution_count": 5,
   "id": "12efb422-9e68-4a2a-b388-d97891658f16",
   "metadata": {},
   "outputs": [
    {
     "name": "stdout",
     "output_type": "stream",
     "text": [
      "ok True\n",
      "[{'avg_duration': 2362.7684210526318,\n",
      "  'bucket': '2025-04-07T00:00:00Z',\n",
      "  'count': 95,\n",
      "  'operating_system': 'Android',\n",
      "  'page': '/about',\n",
      "  'ua': ''},\n",
      " {'avg_duration': 2413.4455445544554,\n",
      "  'bucket': '2025-04-07T00:00:00Z',\n",
      "  'count': 101,\n",
      "  'operating_system': 'Android',\n",
      "  'page': '/contact',\n",
      "  'ua': ''},\n",
      " {'avg_duration': 2488.8509615384614,\n",
      "  'bucket': '2025-04-07T00:00:00Z',\n",
      "  'count': 208,\n",
      "  'operating_system': 'Linux',\n",
      "  'page': '/about',\n",
      "  'ua': ''},\n",
      " {'avg_duration': 2492.8333333333335,\n",
      "  'bucket': '2025-04-07T00:00:00Z',\n",
      "  'count': 216,\n",
      "  'operating_system': 'Linux',\n",
      "  'page': '/contact',\n",
      "  'ua': ''},\n",
      " {'avg_duration': 2501.9358288770054,\n",
      "  'bucket': '2025-04-07T00:00:00Z',\n",
      "  'count': 187,\n",
      "  'operating_system': 'MacOS',\n",
      "  'page': '/about',\n",
      "  'ua': ''},\n",
      " {'avg_duration': 2427.877192982456,\n",
      "  'bucket': '2025-04-07T00:00:00Z',\n",
      "  'count': 171,\n",
      "  'operating_system': 'MacOS',\n",
      "  'page': '/contact',\n",
      "  'ua': ''},\n",
      " {'avg_duration': 2541.176470588235,\n",
      "  'bucket': '2025-04-07T00:00:00Z',\n",
      "  'count': 51,\n",
      "  'operating_system': 'Other',\n",
      "  'page': '/about',\n",
      "  'ua': ''},\n",
      " {'avg_duration': 2317.3396226415093,\n",
      "  'bucket': '2025-04-07T00:00:00Z',\n",
      "  'count': 53,\n",
      "  'operating_system': 'Other',\n",
      "  'page': '/contact',\n",
      "  'ua': ''},\n",
      " {'avg_duration': 2598.934328358209,\n",
      "  'bucket': '2025-04-07T00:00:00Z',\n",
      "  'count': 335,\n",
      "  'operating_system': 'Windows',\n",
      "  'page': '/about',\n",
      "  'ua': ''},\n",
      " {'avg_duration': 2500.169934640523,\n",
      "  'bucket': '2025-04-07T00:00:00Z',\n",
      "  'count': 306,\n",
      "  'operating_system': 'Windows',\n",
      "  'page': '/contact',\n",
      "  'ua': ''},\n",
      " {'avg_duration': 2429.535433070866,\n",
      "  'bucket': '2025-04-07T00:00:00Z',\n",
      "  'count': 127,\n",
      "  'operating_system': 'iOS',\n",
      "  'page': '/about',\n",
      "  'ua': ''},\n",
      " {'avg_duration': 2472.532258064516,\n",
      "  'bucket': '2025-04-07T00:00:00Z',\n",
      "  'count': 124,\n",
      "  'operating_system': 'iOS',\n",
      "  'page': '/contact',\n",
      "  'ua': ''}]\n"
     ]
    }
   ],
   "source": [
    "response = requests.get(endpoint,params={'duration':'1 week','pages':['/about','/contact']})\n",
    "print('ok', response.ok)\n",
    "if response.ok:\n",
    "    data = response.json()\n",
    "    pprint(data)"
   ]
  },
  {
   "cell_type": "code",
   "execution_count": 6,
   "id": "1e83b362-e3a6-46ee-b625-8164b1464be0",
   "metadata": {},
   "outputs": [
    {
     "name": "stdout",
     "output_type": "stream",
     "text": [
      "ok 200\n",
      "{'duration': 1671,\n",
      " 'id': 4,\n",
      " 'ip_address': '26.166.200.132',\n",
      " 'page': '/dashboard',\n",
      " 'referrer': 'https://twitter.com',\n",
      " 'session_id': '66c3aba6-67b3-40f2-b4ef-9d2f0b914baa',\n",
      " 'time': '2025-04-08T05:57:55.064275Z',\n",
      " 'user_agent': 'Mozilla/5.0 (Macintosh; U; Intel Mac OS X 10_8_0) '\n",
      "               'AppleWebKit/533.2 (KHTML, like Gecko) Chrome/55.0.804.0 '\n",
      "               'Safari/533.2'}\n"
     ]
    }
   ],
   "source": [
    "detail_path = \"/api/events/4\"\n",
    "detail_endpoint = f\"{base_url}{detail_path}\"\n",
    "r = requests.get(detail_endpoint)\n",
    "print('ok', r.status_code)\n",
    "if r.ok:\n",
    "    data = r.json()\n",
    "    pprint(data)"
   ]
  },
  {
   "cell_type": "code",
   "execution_count": null,
   "id": "ccf82979-e965-42fc-b3d0-91b163dd8a42",
   "metadata": {},
   "outputs": [],
   "source": []
  },
  {
   "cell_type": "code",
   "execution_count": null,
   "id": "edfe2275-241b-4c35-b9f9-90c3511fc45c",
   "metadata": {},
   "outputs": [],
   "source": []
  }
 ],
 "metadata": {
  "kernelspec": {
   "display_name": "Python 3 (ipykernel)",
   "language": "python",
   "name": "python3"
  },
  "language_info": {
   "codemirror_mode": {
    "name": "ipython",
    "version": 3
   },
   "file_extension": ".py",
   "mimetype": "text/x-python",
   "name": "python",
   "nbconvert_exporter": "python",
   "pygments_lexer": "ipython3",
   "version": "3.10.12"
  }
 },
 "nbformat": 4,
 "nbformat_minor": 5
}
