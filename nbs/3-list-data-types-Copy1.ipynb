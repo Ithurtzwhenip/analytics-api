{
 "cells": [
  {
   "cell_type": "code",
   "execution_count": 15,
   "id": "dbd7076b-d67b-4b9f-a28c-db1d362e023e",
   "metadata": {},
   "outputs": [
    {
     "data": {
      "text/plain": [
       "'http://localhost:8002/api/events'"
      ]
     },
     "execution_count": 15,
     "metadata": {},
     "output_type": "execute_result"
    }
   ],
   "source": [
    "import requests\n",
    "from pprint import pprint\n",
    "path = \"/api/events\"\n",
    "base_url = \"http://localhost:8002\" # 127.0.0.1\n",
    "endpoint = f\"{base_url}{path}\"\n",
    "endpoint"
   ]
  },
  {
   "cell_type": "code",
   "execution_count": 16,
   "id": "12efb422-9e68-4a2a-b388-d97891658f16",
   "metadata": {},
   "outputs": [
    {
     "name": "stdout",
     "output_type": "stream",
     "text": [
      "ok True\n",
      "{'count': 10,\n",
      " 'results': [{'description': '', 'id': 1, 'page': '/test+'},\n",
      "             {'description': '', 'id': 2, 'page': '/test+'},\n",
      "             {'description': '123', 'id': 3, 'page': '/test+'},\n",
      "             {'description': '123', 'id': 4, 'page': '/test+'},\n",
      "             {'description': '123', 'id': 5, 'page': '/test+'},\n",
      "             {'description': '123', 'id': 6, 'page': '/test+'},\n",
      "             {'description': '123', 'id': 7, 'page': '/test+'},\n",
      "             {'description': '123', 'id': 8, 'page': '/test+'},\n",
      "             {'description': '123', 'id': 9, 'page': '/test+'},\n",
      "             {'description': '123', 'id': 10, 'page': '/test+'}]}\n"
     ]
    }
   ],
   "source": [
    "response = requests.get(endpoint)\n",
    "print('ok', response.ok)\n",
    "if response.ok:\n",
    "    data = response.json()\n",
    "    pprint(data)"
   ]
  },
  {
   "cell_type": "code",
   "execution_count": null,
   "id": "1e83b362-e3a6-46ee-b625-8164b1464be0",
   "metadata": {},
   "outputs": [],
   "source": []
  }
 ],
 "metadata": {
  "kernelspec": {
   "display_name": "Python 3 (ipykernel)",
   "language": "python",
   "name": "python3"
  },
  "language_info": {
   "codemirror_mode": {
    "name": "ipython",
    "version": 3
   },
   "file_extension": ".py",
   "mimetype": "text/x-python",
   "name": "python",
   "nbconvert_exporter": "python",
   "pygments_lexer": "ipython3",
   "version": "3.10.12"
  }
 },
 "nbformat": 4,
 "nbformat_minor": 5
}
