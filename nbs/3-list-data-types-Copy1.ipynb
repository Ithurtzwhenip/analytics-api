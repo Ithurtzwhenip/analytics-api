{
 "cells": [
  {
   "cell_type": "code",
   "execution_count": 10,
   "id": "dbd7076b-d67b-4b9f-a28c-db1d362e023e",
   "metadata": {},
   "outputs": [
    {
     "data": {
      "text/plain": [
       "'http://localhost:8002/api/events'"
      ]
     },
     "execution_count": 10,
     "metadata": {},
     "output_type": "execute_result"
    }
   ],
   "source": [
    "import requests\n",
    "from pprint import pprint\n",
    "path = \"/api/events\"\n",
    "base_url = \"http://localhost:8002\" # 127.0.0.1\n",
    "endpoint = f\"{base_url}{path}\"\n",
    "endpoint"
   ]
  },
  {
   "cell_type": "code",
   "execution_count": 11,
   "id": "12efb422-9e68-4a2a-b388-d97891658f16",
   "metadata": {},
   "outputs": [
    {
     "name": "stdout",
     "output_type": "stream",
     "text": [
      "ok True\n",
      "{'count': 6,\n",
      " 'results': [{'created_at': '2025-04-05T10:44:52.830085Z',\n",
      "              'description': '123',\n",
      "              'id': 1,\n",
      "              'page': '/test+',\n",
      "              'updated_at': '2025-04-05T10:44:52.830091Z'},\n",
      "             {'created_at': '2025-04-05T10:46:44.479723Z',\n",
      "              'description': '123',\n",
      "              'id': 3,\n",
      "              'page': '/test+',\n",
      "              'updated_at': '2025-04-05T10:46:44.479730Z'},\n",
      "             {'created_at': '2025-04-05T10:46:47.090165Z',\n",
      "              'description': '123',\n",
      "              'id': 4,\n",
      "              'page': '/test+',\n",
      "              'updated_at': '2025-04-05T10:46:47.090170Z'},\n",
      "             {'created_at': '2025-04-05T10:46:49.761321Z',\n",
      "              'description': '123',\n",
      "              'id': 5,\n",
      "              'page': '/test+',\n",
      "              'updated_at': '2025-04-05T10:46:49.761325Z'},\n",
      "             {'created_at': '2025-04-05T10:46:57.725266Z',\n",
      "              'description': '123',\n",
      "              'id': 6,\n",
      "              'page': '/test+',\n",
      "              'updated_at': '2025-04-05T10:46:57.725271Z'},\n",
      "             {'created_at': '2025-04-05T10:44:57.345096Z',\n",
      "              'description': 'inline test',\n",
      "              'id': 2,\n",
      "              'page': '/test+',\n",
      "              'updated_at': '2025-04-05T10:46:57.970566Z'}]}\n"
     ]
    }
   ],
   "source": [
    "response = requests.get(endpoint)\n",
    "print('ok', response.ok)\n",
    "if response.ok:\n",
    "    data = response.json()\n",
    "    pprint(data)"
   ]
  },
  {
   "cell_type": "code",
   "execution_count": 12,
   "id": "1e83b362-e3a6-46ee-b625-8164b1464be0",
   "metadata": {},
   "outputs": [
    {
     "name": "stdout",
     "output_type": "stream",
     "text": [
      "ok 200\n",
      "{'created_at': '2025-04-05T10:46:47.090165Z',\n",
      " 'description': '123',\n",
      " 'id': 4,\n",
      " 'page': '/test+',\n",
      " 'updated_at': '2025-04-05T10:46:47.090170Z'}\n"
     ]
    }
   ],
   "source": [
    "detail_path = \"/api/events/4\"\n",
    "detail_endpoint = f\"{base_url}{detail_path}\"\n",
    "r = requests.get(detail_endpoint)\n",
    "print('ok', r.status_code)\n",
    "if r.ok:\n",
    "    data = r.json()\n",
    "    pprint(data)"
   ]
  },
  {
   "cell_type": "code",
   "execution_count": null,
   "id": "ccf82979-e965-42fc-b3d0-91b163dd8a42",
   "metadata": {},
   "outputs": [],
   "source": []
  }
 ],
 "metadata": {
  "kernelspec": {
   "display_name": "Python 3 (ipykernel)",
   "language": "python",
   "name": "python3"
  },
  "language_info": {
   "codemirror_mode": {
    "name": "ipython",
    "version": 3
   },
   "file_extension": ".py",
   "mimetype": "text/x-python",
   "name": "python",
   "nbconvert_exporter": "python",
   "pygments_lexer": "ipython3",
   "version": "3.10.12"
  }
 },
 "nbformat": 4,
 "nbformat_minor": 5
}
