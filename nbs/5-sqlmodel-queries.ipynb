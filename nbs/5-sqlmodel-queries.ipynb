{
 "cells": [
  {
   "cell_type": "code",
   "execution_count": 1,
   "id": "dbd7076b-d67b-4b9f-a28c-db1d362e023e",
   "metadata": {},
   "outputs": [],
   "source": [
    "import sys\n",
    "from pathlib import Path"
   ]
  },
  {
   "cell_type": "code",
   "execution_count": 2,
   "id": "f43df1ea-2eab-48a7-b54f-c8ac854ea3b0",
   "metadata": {},
   "outputs": [],
   "source": [
    "src_path=Path(\"../src\").resolve()\n",
    "sys.path.append(str(src_path))"
   ]
  },
  {
   "cell_type": "code",
   "execution_count": 3,
   "id": "c4353479-0527-421b-b3c5-3a8d4a43695e",
   "metadata": {},
   "outputs": [],
   "source": [
    "from sqlmodel import Session,select\n",
    "from api.db.session import engine\n",
    "from api.events.models import EventModel"
   ]
  },
  {
   "cell_type": "code",
   "execution_count": 6,
   "id": "27ae9e7a-b486-4aaf-8a58-9d5b1fdd865e",
   "metadata": {},
   "outputs": [
    {
     "name": "stdout",
     "output_type": "stream",
     "text": [
      "SELECT eventmodel.id, eventmodel.time, eventmodel.page, eventmodel.description, eventmodel.updated_at \n",
      "FROM eventmodel ORDER BY eventmodel.updated_at ASC\n",
      " LIMIT 10\n",
      "\n",
      "SELECT eventmodel.id, eventmodel.time, eventmodel.page, eventmodel.description, eventmodel.updated_at \n",
      "FROM eventmodel ORDER BY eventmodel.updated_at ASC\n",
      " LIMIT :param_1\n"
     ]
    }
   ],
   "source": [
    "with Session(engine) as session:\n",
    "    query = select(EventModel).order_by(EventModel.updated_at.asc()).limit(10)\n",
    "    compiled_query = query.compile(compile_kwargs={\"literal_binds\":True})\n",
    "    print(compiled_query)\n",
    "    print(\"\")\n",
    "    print(str(query))"
   ]
  },
  {
   "cell_type": "code",
   "execution_count": null,
   "id": "6ee31ad0-ec10-47ec-8918-45b19455a949",
   "metadata": {},
   "outputs": [],
   "source": []
  },
  {
   "cell_type": "code",
   "execution_count": null,
   "id": "871eabeb-f903-461e-b4bd-46afaea2d9cf",
   "metadata": {},
   "outputs": [],
   "source": []
  }
 ],
 "metadata": {
  "kernelspec": {
   "display_name": "Python 3 (ipykernel)",
   "language": "python",
   "name": "python3"
  },
  "language_info": {
   "codemirror_mode": {
    "name": "ipython",
    "version": 3
   },
   "file_extension": ".py",
   "mimetype": "text/x-python",
   "name": "python",
   "nbconvert_exporter": "python",
   "pygments_lexer": "ipython3",
   "version": "3.10.12"
  }
 },
 "nbformat": 4,
 "nbformat_minor": 5
}
